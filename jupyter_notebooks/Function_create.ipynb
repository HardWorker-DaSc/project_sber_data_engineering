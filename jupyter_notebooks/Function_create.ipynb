{
 "cells": [
  {
   "cell_type": "code",
   "execution_count": 3,
   "id": "9f941286-1590-4f77-894e-49f88e43a055",
   "metadata": {},
   "outputs": [],
   "source": [
    "import pandas as pd\n",
    "import numpy as np"
   ]
  },
  {
   "cell_type": "code",
   "execution_count": 24,
   "id": "0dbee468-b534-48a4-b998-c3618e44bda0",
   "metadata": {},
   "outputs": [],
   "source": [
    "def device_os_pre(df: pd.DataFrame) -> pd.DataFrame:\n",
    "    shame_df = df.shape[0]\n",
    "    column_uniq = []\n",
    "    \n",
    "    for column in df.columns:\n",
    "        if len(df[column].unique()) == shame_df:\n",
    "            column_uniq.append(column)\n",
    "            break\n",
    "    \n",
    "    df_combinations = df[\n",
    "    ['device_category', \n",
    "     'device_brand', \n",
    "     'device_os']\n",
    "    ].drop_duplicates().dropna()\n",
    "    \n",
    "    df_combinations.drop(\n",
    "        df_combinations\n",
    "        .loc[df_combinations['device_os'] == '(not set)']\n",
    "        .index, \n",
    "        inplace=True\n",
    "    )\n",
    "\n",
    "    df = df.merge(df_combinations, \n",
    "                       on=['device_category', 'device_brand'], \n",
    "                       how='left', \n",
    "                       suffixes=('', '_y')\n",
    "                      )\n",
    "\n",
    "    df_clear = df.drop('device_os', axis=1).dropna()\n",
    "\n",
    "    df_finish = df_clear[~df_clear[column_uniq].duplicated()]\n",
    "    \n",
    "    # df_sessions = df[\n",
    "    # (~df['device_os_y'].isna()) & (df[column_uniq].duplicated())]\n",
    "    \n",
    "    # df_finish = df.merge(df_sessions[column_uniq], \n",
    "    #                      on=column_uniq\n",
    "    #                     )\n",
    "    \n",
    "    return df_finish"
   ]
  },
  {
   "cell_type": "markdown",
   "id": "6f7e9698-57a3-4f15-8ded-bd484b399b38",
   "metadata": {},
   "source": [
    "ga_sessions.utm_medium in ('organic',\n",
    "'referral', '(none)') ===================== ORGANIC\n",
    "everything else = no ORGANIC"
   ]
  },
  {
   "cell_type": "code",
   "execution_count": 1,
   "id": "a7afe017-45b0-4d81-9310-bd466426d1fa",
   "metadata": {},
   "outputs": [],
   "source": [
    "organic_traffic = ['organic', 'referral', '(none)']"
   ]
  },
  {
   "cell_type": "code",
   "execution_count": null,
   "id": "0bcbdde2-2f55-4e0e-bbde-3b55b5b9e29b",
   "metadata": {},
   "outputs": [],
   "source": [
    "def organic_1_and_pay_0_traffic(df: pd.DataFrame) -> pd.DataFrame:\n",
    "    df['organic_traff'] = np.where(df['utm_medium'].isin(organic_traffic), 1, 0)\n",
    "    return df"
   ]
  },
  {
   "cell_type": "code",
   "execution_count": null,
   "id": "cd8bf84b-6204-4e30-b767-7462430bdc37",
   "metadata": {},
   "outputs": [],
   "source": [
    "from airflow import DAG\n",
    "from airflow.operators.python import PythonOperator\n",
    "from sqlalchemy import create_engine\n",
    "import pandas as pd\n",
    "import os\n",
    "from datetime import datetime\n",
    "\n",
    "# Функция для загрузки DataFrame из PKL в PostgreSQL\n",
    "def load_pkl_to_postgres(file_path, table_name, db_config):\n",
    "    # Загружаем DataFrame из файла PKL\n",
    "    df = pd.read_pickle(file_path)\n",
    "\n",
    "    # Устанавливаем соединение с PostgreSQL\n",
    "    connection_string = f\"postgresql://{db_config['username']}:{db_config['password']}@{db_config['host']}:{db_config['port']}/{db_config['database']}\"\n",
    "    engine = create_engine(connection_string)\n",
    "\n",
    "    # Загружаем DataFrame в таблицу PostgreSQL\n",
    "    df.to_sql(table_name, engine, if_exists='replace', index=False)\n",
    "    print(f\"Данные успешно загружены в таблицу {table_name}.\")\n",
    "\n",
    "# Параметры подключения к базе данных\n",
    "db_config = {\n",
    "    'username': 'your_username',\n",
    "    'password': 'your_password',\n",
    "    'host': 'localhost',  # или IP-адрес вашего сервера\n",
    "    'port': '5432',       # стандартный порт PostgreSQL\n",
    "    'database': 'your_database'\n",
    "}\n",
    "\n",
    "# Путь к файлу PKL и имя таблицы\n",
    "file_path = 'path/to/your/dataframe.pkl'  # Укажите путь к вашему файлу PKL\n",
    "table_name = 'your_table_name'  # Укажите имя таблицы, в которую хотите загрузить данные\n",
    "\n",
    "# Определяем DAG\n",
    "with DAG('load_pkl_to_postgres_dag', start_date=datetime(2023, 1, 1), schedule_interval='@once', catchup=False) as dag:\n",
    "    load_task = PythonOperator(\n",
    "        task_id='load_pkl_task',\n",
    "        python_callable=load_pkl_to_postgres,\n",
    "        op_kwargs={\n",
    "            'file_path': file_path,\n",
    "            'table_name': table_name,\n",
    "            'db_config': db_config\n",
    "        }\n",
    "    )\n",
    "\n",
    "# Задача будет выполнена при запуске DAG"
   ]
  },
  {
   "cell_type": "code",
   "execution_count": null,
   "id": "dec7314a-9a11-426e-80a7-4e02a4c19fca",
   "metadata": {},
   "outputs": [],
   "source": []
  },
  {
   "cell_type": "code",
   "execution_count": null,
   "id": "8142dda8-2548-435e-b40d-2bd3734f9385",
   "metadata": {},
   "outputs": [],
   "source": []
  },
  {
   "cell_type": "code",
   "execution_count": null,
   "id": "50bbe852-4633-4198-9a77-727e2051ead9",
   "metadata": {},
   "outputs": [],
   "source": []
  },
  {
   "cell_type": "code",
   "execution_count": null,
   "id": "9a78551c-8839-4b19-9578-f41a2a67dc8d",
   "metadata": {},
   "outputs": [],
   "source": []
  },
  {
   "cell_type": "code",
   "execution_count": null,
   "id": "14babeab-b6d3-45e4-be7a-9348b14cd49a",
   "metadata": {},
   "outputs": [],
   "source": []
  },
  {
   "cell_type": "code",
   "execution_count": null,
   "id": "85c9842c-82e0-485d-9d9f-716a864c32e7",
   "metadata": {},
   "outputs": [],
   "source": []
  },
  {
   "cell_type": "code",
   "execution_count": null,
   "id": "5285a3c8-c995-46b9-8258-1980f291a4b5",
   "metadata": {},
   "outputs": [],
   "source": []
  },
  {
   "cell_type": "code",
   "execution_count": null,
   "id": "a365c3c3-5980-4f45-9c5c-85e65dcbf159",
   "metadata": {},
   "outputs": [],
   "source": []
  },
  {
   "cell_type": "code",
   "execution_count": null,
   "id": "c2bece95-56c4-4ed9-aeed-86c7e5a11cd7",
   "metadata": {},
   "outputs": [],
   "source": []
  }
 ],
 "metadata": {
  "kernelspec": {
   "display_name": "Python 3 (ipykernel)",
   "language": "python",
   "name": "python3"
  },
  "language_info": {
   "codemirror_mode": {
    "name": "ipython",
    "version": 3
   },
   "file_extension": ".py",
   "mimetype": "text/x-python",
   "name": "python",
   "nbconvert_exporter": "python",
   "pygments_lexer": "ipython3",
   "version": "3.11.7"
  }
 },
 "nbformat": 4,
 "nbformat_minor": 5
}
