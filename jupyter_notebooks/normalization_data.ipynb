{
 "cells": [
  {
   "cell_type": "markdown",
   "id": "6e19bdac-a4c2-4bd3-a6a1-488bc336932d",
   "metadata": {
    "jp-MarkdownHeadingCollapsed": true
   },
   "source": [
    "# imports"
   ]
  },
  {
   "cell_type": "code",
   "execution_count": 1,
   "id": "050a0175-5532-41f5-a819-948c86e70d2c",
   "metadata": {},
   "outputs": [],
   "source": [
    "import pandas as pd\n",
    "import matplotlib.pyplot as plt\n",
    "import numpy as np"
   ]
  },
  {
   "cell_type": "markdown",
   "id": "1f63e1b2-140b-429e-83c7-d68d6cbe3df1",
   "metadata": {},
   "source": [
    "# functions and variables"
   ]
  },
  {
   "cell_type": "markdown",
   "id": "28b68b76-d9f5-4096-9a1e-ce9b3aee54fd",
   "metadata": {
    "jp-MarkdownHeadingCollapsed": true
   },
   "source": [
    "## variables"
   ]
  },
  {
   "cell_type": "code",
   "execution_count": 2,
   "id": "18f9dd19-fe91-48ba-82a5-00a135a096ee",
   "metadata": {},
   "outputs": [],
   "source": [
    "target_action = ['sub_car_claim_click', 'sub_car_claim_submit_click',\n",
    "'sub_open_dialog_click', 'sub_custom_question_submit_click',\n",
    "'sub_call_number_click', 'sub_callback_submit_click', 'sub_submit_success',\n",
    "'sub_car_request_submit_click']\n",
    "drop_columns_hit = ['event_label', 'event_value', 'hit_referer', 'hit_type']\n",
    "drop_columns_sessions = ['device_model', 'utm_keyword']\n",
    "organic_traffic = ['organic', 'referral', '(none)']"
   ]
  },
  {
   "cell_type": "markdown",
   "id": "a9be5c01-cc35-45d6-8aee-0b0ac614109e",
   "metadata": {
    "jp-MarkdownHeadingCollapsed": true
   },
   "source": [
    "## functions"
   ]
  },
  {
   "cell_type": "code",
   "execution_count": 3,
   "id": "afcf458e-8852-47f3-a09f-e1deff21b0d5",
   "metadata": {},
   "outputs": [],
   "source": [
    "def unique_values_column(df):\n",
    "    for column in df.columns:\n",
    "        print(f'column {column} unique: {len(df[column].unique())}')"
   ]
  },
  {
   "cell_type": "code",
   "execution_count": 4,
   "id": "6282e760-a37b-4d3d-ae09-20836648a132",
   "metadata": {},
   "outputs": [],
   "source": [
    "def categorical_values(df):\n",
    "    category_value = pd.Series()\n",
    "    for column in df.columns:\n",
    "        category_value.loc[column] = len(df[column].unique())\n",
    "    print(f'all line: {df.shape[0]}')\n",
    "    return category_value"
   ]
  },
  {
   "cell_type": "code",
   "execution_count": 5,
   "id": "50ddc870-a1f6-4223-90a6-33cc8982fbe1",
   "metadata": {},
   "outputs": [],
   "source": [
    "def percent_null(df):\n",
    "    print(f'values line: {df.shape[0]}, columns: {df.shape[1]}')\n",
    "    sum_null = df.isna().sum()\n",
    "    sum_line = df.shape[0]\n",
    "    equally = sum_null / sum_line *100\n",
    "    print('Процент отсутствующих данных в df:')\n",
    "    return round((equally), 2)"
   ]
  },
  {
   "cell_type": "code",
   "execution_count": 6,
   "id": "61e11132-3f66-4479-9404-14cf50c72b2e",
   "metadata": {},
   "outputs": [],
   "source": [
    "###\n",
    "##\n",
    "#---> Функция ищет медиану по извесной информации о проведённом времени \n",
    "#---> в аналогичных категориях и заменяет ей nan значения в hit_time\n",
    "##\n",
    "###\n",
    "def hit_time_median_category_event(df: pd.DataFrame) -> pd.DataFrame: \n",
    "    df_finish = pd.DataFrame()\n",
    "    median_time = 0\n",
    "    #category_median = {}\n",
    "    \n",
    "    df_temp = df[['hit_time', 'event_category']].copy()\n",
    "    categories = df_temp['event_category'].value_counts().index.tolist()\n",
    "    \n",
    "    for category in categories:\n",
    "        median_time = df_temp[df_temp['event_category'] == category].hit_time.quantile(0.50)\n",
    "        #category_median[category] = median_time\n",
    "        \n",
    "        df_temp1 = df_temp[((df_temp.hit_time.isna() == True)\n",
    "                         & (df_temp['event_category'] == category))].hit_time.fillna(median_time)\n",
    "        df_finish = pd.concat([df_finish, df_temp1])\n",
    "\n",
    "    df_finish = df_finish.rename(columns={0: 'hit_time'})    \n",
    "    df.loc[df_finish.index, 'hit_time'] = df_finish['hit_time']\n",
    "        \n",
    "    return df#, category_median"
   ]
  },
  {
   "cell_type": "code",
   "execution_count": 7,
   "id": "8e68cc79-854d-499f-802c-c920ed404002",
   "metadata": {},
   "outputs": [
    {
     "ename": "SyntaxError",
     "evalue": "non-default argument follows default argument (3721133969.py, line 10)",
     "output_type": "error",
     "traceback": [
      "\u001b[1;36m  Cell \u001b[1;32mIn[7], line 10\u001b[1;36m\u001b[0m\n\u001b[1;33m    new_column,\u001b[0m\n\u001b[1;37m    ^\u001b[0m\n\u001b[1;31mSyntaxError\u001b[0m\u001b[1;31m:\u001b[0m non-default argument follows default argument\n"
     ]
    }
   ],
   "source": [
    "###\n",
    "##\n",
    "#---> Функция создает таргет 1 для ключевых слов и 0 для оставшихся. Сортирует\n",
    "#---> столбик с таргетами чтобы все таргеты = 1 были первыми и удаляет все\n",
    "#---> дубли поле первого уникального значения сессии. Возвращает DF сохряняя индексы.\n",
    "##\n",
    "###\n",
    "def no_duplicated_target_and_null(df: pd.DataFrame, \n",
    "                                  target_action = target_action, \n",
    "                                  new_column, \n",
    "                                  column_target, \n",
    "                                  drop_dup_column) -> pd.DataFrame:\n",
    "    \n",
    "    df_temp = df.copy()\n",
    "    pattern_word = '|'.join(target_action)\n",
    "    \n",
    "    df_temp[new_column] = (df_temp[column_target]\n",
    "                         .str\n",
    "                         .contains(pattern_word)\n",
    "                         .astype(int)\n",
    "                        )\n",
    "\n",
    "    df_sort = df_temp.sort_values(by=[new_column], ascending=False)\n",
    "\n",
    "    df_finish = df_sort.drop_duplicates(subset=drop_dup_column, keep='first')\n",
    "    \n",
    "    return df_finish"
   ]
  },
  {
   "cell_type": "code",
   "execution_count": 9,
   "id": "15bc10b1-8df1-46e2-a5f4-7e9237eb7f73",
   "metadata": {},
   "outputs": [],
   "source": [
    "def device_os_pre(df: pd.DataFrame) -> pd.DataFrame:\n",
    "    \n",
    "    shame_df = df.shape[0]\n",
    "    column_uniq = []\n",
    "    \n",
    "    for column in df.columns:\n",
    "        if len(df[column].unique()) == shame_df:\n",
    "            column_uniq.append(column)\n",
    "            break\n",
    "    \n",
    "    df_combinations = df[\n",
    "    ['device_category', \n",
    "     'device_brand', \n",
    "     'device_os']\n",
    "    ].drop_duplicates().dropna()\n",
    "    \n",
    "    df_combinations.drop(\n",
    "        df_combinations\n",
    "        .loc[df_combinations['device_os'] == '(not set)']\n",
    "        .index, \n",
    "        inplace=True\n",
    "    )\n",
    "\n",
    "    df = df.merge(df_combinations, \n",
    "                       on=['device_category', 'device_brand'], \n",
    "                       how='left', \n",
    "                       suffixes=('', '_y')\n",
    "                      )\n",
    "\n",
    "    df_clear = df.drop('device_os', axis=1).dropna()\n",
    "\n",
    "    df_finish = df_clear[~df_clear[column_uniq].duplicated()]\n",
    "    \n",
    "    return df_finish"
   ]
  },
  {
   "cell_type": "code",
   "execution_count": 10,
   "id": "a2cac513-b48e-4023-8ecf-13548aa51038",
   "metadata": {},
   "outputs": [],
   "source": [
    "def organic_1_and_pay_0_traffic(df: pd.DataFrame) -> pd.DataFrame:\n",
    "    \n",
    "    df['organic_traff'] = np.where(df['utm_medium'].isin(organic_traffic), 1, 0)\n",
    "    \n",
    "    return df"
   ]
  },
  {
   "cell_type": "markdown",
   "id": "0da3961a-bdbe-44c3-8091-6920951bdee9",
   "metadata": {
    "jp-MarkdownHeadingCollapsed": true
   },
   "source": [
    "### additional developments"
   ]
  },
  {
   "cell_type": "code",
   "execution_count": 1,
   "id": "c56d511f-1f75-445d-9c48-5565d9741a3d",
   "metadata": {},
   "outputs": [],
   "source": [
    "###\n",
    "##\n",
    "#---> do делать функцию для генерации ключевого слова utm_keyword\n",
    "#---> \n",
    "#---> poka dymay ydalit\n",
    "##\n",
    "###\n",
    "\n",
    "# a, b = zip(*(data_sessions_pkl.utm_keyword.value_counts(normalize=True).head(3)).items())\n",
    "\n",
    "# b = list(b)\n",
    "# sum1 = 0.0\n",
    "# for x in b:\n",
    "#     sum1 += x\n",
    "# sum2 = 1 - sum1\n",
    "# valu = sum2 / 20\n",
    "# valu1 = [valu * 17.5, valu * 1.5, valu * 1]\n",
    "# finish = []\n",
    "# chil = 0\n",
    "# for x in range(3):\n",
    "#     if chil == 3:\n",
    "#         break\n",
    "#     finish.append(b[chil] + valu1[x])\n",
    "#     if chil < 3:\n",
    "#         chil+=1\n",
    "# print(finish, a)\n",
    "# print(np.random.choice(a, p=finish))"
   ]
  },
  {
   "cell_type": "markdown",
   "id": "4fcdc6e2-7579-4350-a96a-2a14e7eedaa5",
   "metadata": {
    "jp-MarkdownHeadingCollapsed": true
   },
   "source": [
    "# Preparatory work"
   ]
  },
  {
   "cell_type": "markdown",
   "id": "1a1a6937-cb37-4178-9395-61962593890b",
   "metadata": {
    "jp-MarkdownHeadingCollapsed": true
   },
   "source": [
    "## Downloads"
   ]
  },
  {
   "cell_type": "code",
   "execution_count": 22,
   "id": "ad33840c-c4cd-4637-b29a-c8c56d05dd24",
   "metadata": {},
   "outputs": [],
   "source": [
    "data_hits_pkl = pd.read_pickle('../data/ga_hits.pkl')"
   ]
  },
  {
   "cell_type": "code",
   "execution_count": 12,
   "id": "e80a14bf-afcd-467f-b0c0-f81c2ca0d467",
   "metadata": {},
   "outputs": [],
   "source": [
    "data_sessions_pkl = pd.read_pickle('../data/ga_sessions.pkl')"
   ]
  },
  {
   "cell_type": "markdown",
   "id": "392a7fe4-ad39-4548-a7f2-dd772d2f7d4f",
   "metadata": {
    "jp-MarkdownHeadingCollapsed": true
   },
   "source": [
    "## ga_hits_pkl"
   ]
  },
  {
   "cell_type": "code",
   "execution_count": 15,
   "id": "0f9f7562-a573-441c-80c0-420688905ca9",
   "metadata": {},
   "outputs": [
    {
     "name": "stdout",
     "output_type": "stream",
     "text": [
      "all line: 15726470\n"
     ]
    },
    {
     "data": {
      "text/plain": [
       "session_id        1734610\n",
       "hit_date              226\n",
       "hit_time           925888\n",
       "hit_number            500\n",
       "hit_type                1\n",
       "hit_referer         37874\n",
       "hit_page_path      342715\n",
       "event_category         52\n",
       "event_action          230\n",
       "event_label         39826\n",
       "event_value             1\n",
       "dtype: int64"
      ]
     },
     "execution_count": 15,
     "metadata": {},
     "output_type": "execute_result"
    }
   ],
   "source": [
    "categorical_values(data_hits_pkl)"
   ]
  },
  {
   "cell_type": "code",
   "execution_count": 23,
   "id": "8db39d2f-2622-467b-b350-00a0a658a850",
   "metadata": {},
   "outputs": [],
   "source": [
    "data_hits_pkl['hit_date'] = pd.to_datetime(data_hits_pkl['hit_date'])\n",
    "data_hits_pkl['event_category'] = data_hits_pkl['event_category'].astype('category')"
   ]
  },
  {
   "cell_type": "code",
   "execution_count": null,
   "id": "6f6d823c-f40a-4309-ba64-67538d117ce5",
   "metadata": {},
   "outputs": [],
   "source": [
    "data_hits_pkl.info()"
   ]
  },
  {
   "cell_type": "markdown",
   "id": "c1e2c54a-6d02-4e1b-8b76-9f75e9a0e88a",
   "metadata": {
    "jp-MarkdownHeadingCollapsed": true
   },
   "source": [
    "## ga_sessions_pkl"
   ]
  },
  {
   "cell_type": "code",
   "execution_count": 13,
   "id": "e6493b44-b61a-42ab-b781-19f0e14eee1f",
   "metadata": {
    "scrolled": true
   },
   "outputs": [
    {
     "name": "stdout",
     "output_type": "stream",
     "text": [
      "all line: 1860042\n"
     ]
    },
    {
     "data": {
      "text/plain": [
       "session_id                  1860042\n",
       "client_id                   1391719\n",
       "visit_date                      226\n",
       "visit_time                    85318\n",
       "visit_number                    537\n",
       "utm_source                      294\n",
       "utm_medium                       56\n",
       "utm_campaign                    413\n",
       "utm_adcontent                   287\n",
       "utm_keyword                    1220\n",
       "device_category                   3\n",
       "device_os                        14\n",
       "device_brand                    207\n",
       "device_model                    105\n",
       "device_screen_resolution       5039\n",
       "device_browser                   57\n",
       "geo_country                     166\n",
       "geo_city                       2548\n",
       "dtype: int64"
      ]
     },
     "execution_count": 13,
     "metadata": {},
     "output_type": "execute_result"
    }
   ],
   "source": [
    "categorical_values(data_sessions_pkl)"
   ]
  },
  {
   "cell_type": "code",
   "execution_count": 14,
   "id": "8918b155-c898-4ea2-8f2b-789947485075",
   "metadata": {
    "scrolled": true
   },
   "outputs": [],
   "source": [
    "data_sessions_pkl['visit_date'] = pd.to_datetime(data_sessions_pkl['visit_date'])\n",
    "data_sessions_pkl[\n",
    "[\n",
    "    'device_category', \n",
    "    'device_os', \n",
    "    'utm_medium', \n",
    "    'device_brand', \n",
    "    'geo_country'\n",
    "]\n",
    "] = data_sessions_pkl[\n",
    "[\n",
    "    'device_category', \n",
    "    'device_os', \n",
    "    'utm_medium', \n",
    "    'device_brand', \n",
    "    'geo_country'\n",
    "]\n",
    "].astype('category')\n"
   ]
  },
  {
   "cell_type": "code",
   "execution_count": 10,
   "id": "0cc2748b-0312-449f-a593-98e23ab61df6",
   "metadata": {
    "scrolled": true
   },
   "outputs": [
    {
     "name": "stdout",
     "output_type": "stream",
     "text": [
      "<class 'pandas.core.frame.DataFrame'>\n",
      "RangeIndex: 1860042 entries, 0 to 1860041\n",
      "Data columns (total 18 columns):\n",
      " #   Column                    Dtype         \n",
      "---  ------                    -----         \n",
      " 0   session_id                object        \n",
      " 1   client_id                 object        \n",
      " 2   visit_date                datetime64[ns]\n",
      " 3   visit_time                object        \n",
      " 4   visit_number              int64         \n",
      " 5   utm_source                object        \n",
      " 6   utm_medium                category      \n",
      " 7   utm_campaign              object        \n",
      " 8   utm_adcontent             object        \n",
      " 9   utm_keyword               object        \n",
      " 10  device_category           category      \n",
      " 11  device_os                 category      \n",
      " 12  device_brand              category      \n",
      " 13  device_model              object        \n",
      " 14  device_screen_resolution  object        \n",
      " 15  device_browser            object        \n",
      " 16  geo_country               category      \n",
      " 17  geo_city                  object        \n",
      "dtypes: category(5), datetime64[ns](1), int64(1), object(11)\n",
      "memory usage: 196.9+ MB\n"
     ]
    }
   ],
   "source": [
    "data_sessions_pkl.info() "
   ]
  },
  {
   "cell_type": "markdown",
   "id": "7effc3c7-8f38-4712-a6eb-3dbebd525683",
   "metadata": {},
   "source": [
    "# EXPLORATORY DATA ANALYSIS"
   ]
  },
  {
   "cell_type": "markdown",
   "id": "8b77371d-5e06-4d18-8850-c56c23c07547",
   "metadata": {
    "jp-MarkdownHeadingCollapsed": true
   },
   "source": [
    "## CLEANING"
   ]
  },
  {
   "cell_type": "markdown",
   "id": "bea260b2-3d22-4f02-b2c3-f982b54f3e7c",
   "metadata": {
    "jp-MarkdownHeadingCollapsed": true
   },
   "source": [
    "### ga_hits.pkl"
   ]
  },
  {
   "cell_type": "code",
   "execution_count": null,
   "id": "b229c99a-7477-41d0-ad1f-7b44d9651c22",
   "metadata": {},
   "outputs": [],
   "source": [
    "data_hits_pkl.info()"
   ]
  },
  {
   "cell_type": "code",
   "execution_count": null,
   "id": "8a496926-4f56-4673-85ab-f4686be13f99",
   "metadata": {
    "scrolled": true
   },
   "outputs": [],
   "source": [
    "data_hits_pkl = data_hits_pkl.drop(drop_columns_hit, axis=1)\n",
    "data_hits_pkl.shape"
   ]
  },
  {
   "cell_type": "code",
   "execution_count": 51,
   "id": "ab88e07d-183d-4aef-9813-2cf36348abc1",
   "metadata": {},
   "outputs": [],
   "source": [
    "df_hits = hit_time_median_category_event(data_hits_pkl)"
   ]
  },
  {
   "cell_type": "code",
   "execution_count": 52,
   "id": "e4c5e1d4-3a13-43c8-bb80-93481b870c33",
   "metadata": {},
   "outputs": [
    {
     "data": {
      "text/plain": [
       "(15726470, 9)"
      ]
     },
     "execution_count": 52,
     "metadata": {},
     "output_type": "execute_result"
    }
   ],
   "source": [
    "df_hits.shape"
   ]
  },
  {
   "cell_type": "code",
   "execution_count": 54,
   "id": "8f86ae18-9ff8-43ff-8976-1003ebb8f00f",
   "metadata": {},
   "outputs": [
    {
     "name": "stdout",
     "output_type": "stream",
     "text": [
      "Процент отсутствующих данных в df:\n"
     ]
    },
    {
     "data": {
      "text/plain": [
       "session_id         0.00\n",
       "hit_date           0.00\n",
       "hit_time           0.56\n",
       "hit_number         0.00\n",
       "hit_referer       39.90\n",
       "hit_page_path      0.00\n",
       "event_category     0.00\n",
       "event_action       0.00\n",
       "event_label       23.91\n",
       "dtype: float64"
      ]
     },
     "execution_count": 54,
     "metadata": {},
     "output_type": "execute_result"
    }
   ],
   "source": [
    "percent_null(df_hits)"
   ]
  },
  {
   "cell_type": "code",
   "execution_count": 66,
   "id": "aba88793-f717-41b7-8ff8-1aa013105d0d",
   "metadata": {},
   "outputs": [
    {
     "data": {
      "text/plain": [
       "(15638025, 7)"
      ]
     },
     "execution_count": 66,
     "metadata": {},
     "output_type": "execute_result"
    }
   ],
   "source": [
    "df_hits = df_hits.dropna()\n",
    "df_hits.shape"
   ]
  },
  {
   "cell_type": "code",
   "execution_count": 67,
   "id": "f900c00e-8c4a-4911-be80-03922f9a3ad1",
   "metadata": {},
   "outputs": [
    {
     "data": {
      "text/plain": [
       "(1729595, 8)"
      ]
     },
     "execution_count": 67,
     "metadata": {},
     "output_type": "execute_result"
    }
   ],
   "source": [
    "df_hits = no_duplicated_target_and_null(df_hits, \n",
    "                                        target_action, \n",
    "                                        'target', \n",
    "                                        'event_action', \n",
    "                                        'session_id')\n",
    "df_hits.shape"
   ]
  },
  {
   "cell_type": "code",
   "execution_count": 69,
   "id": "230f1c7c-473d-4f10-9923-da6addc1aaa9",
   "metadata": {
    "scrolled": true
   },
   "outputs": [
    {
     "name": "stdout",
     "output_type": "stream",
     "text": [
      "Конечная структура df_hits:\n",
      "<class 'pandas.core.frame.DataFrame'>\n",
      "Index: 1734610 entries, 10413010 to 5258378\n",
      "Data columns (total 8 columns):\n",
      " #   Column          Dtype  \n",
      "---  ------          -----  \n",
      " 0   session_id      object \n",
      " 1   hit_date        object \n",
      " 2   hit_time        float64\n",
      " 3   hit_number      int64  \n",
      " 4   hit_page_path   object \n",
      " 5   event_category  object \n",
      " 6   event_action    object \n",
      " 7   target          int32  \n",
      "dtypes: float64(1), int32(1), int64(1), object(5)\n",
      "memory usage: 112.5+ MB\n",
      "('request .info()', None)\n"
     ]
    }
   ],
   "source": [
    "print('Конечная структура df_hits:')\n",
    "print(f'{rep, df_hits.info()}')"
   ]
  },
  {
   "cell_type": "markdown",
   "id": "3366659d-a197-47a5-bf91-6963c2ce9596",
   "metadata": {
    "jp-MarkdownHeadingCollapsed": true
   },
   "source": [
    "### ga_sessions.pkl"
   ]
  },
  {
   "cell_type": "code",
   "execution_count": 15,
   "id": "3a0dda23-a313-46bb-acb2-2584a2c65188",
   "metadata": {
    "scrolled": true
   },
   "outputs": [
    {
     "name": "stdout",
     "output_type": "stream",
     "text": [
      "values line: 1860042, columns: 18\n",
      "Процент отсутствующих данных в df:\n"
     ]
    },
    {
     "data": {
      "text/plain": [
       "session_id                   0.00\n",
       "client_id                    0.00\n",
       "visit_date                   0.00\n",
       "visit_time                   0.00\n",
       "visit_number                 0.00\n",
       "utm_source                   0.01\n",
       "utm_medium                   0.00\n",
       "utm_campaign                11.81\n",
       "utm_adcontent               18.04\n",
       "utm_keyword                 58.17\n",
       "device_category              0.00\n",
       "device_os                   57.53\n",
       "device_brand                 6.38\n",
       "device_model                99.12\n",
       "device_screen_resolution     0.00\n",
       "device_browser               0.00\n",
       "geo_country                  0.00\n",
       "geo_city                     0.00\n",
       "dtype: float64"
      ]
     },
     "execution_count": 15,
     "metadata": {},
     "output_type": "execute_result"
    }
   ],
   "source": [
    "percent_null(data_sessions_pkl)"
   ]
  },
  {
   "cell_type": "code",
   "execution_count": 16,
   "id": "bded00c0-5f60-4480-84a4-c159903a4ea3",
   "metadata": {},
   "outputs": [],
   "source": [
    "df_sessions = data_sessions_pkl.drop(drop_columns_sessions, axis=1)"
   ]
  },
  {
   "cell_type": "code",
   "execution_count": 17,
   "id": "9a76ac95-1e13-498a-a127-cfa5b9d8d53d",
   "metadata": {
    "scrolled": true
   },
   "outputs": [
    {
     "name": "stdout",
     "output_type": "stream",
     "text": [
      "values line: 1230781, columns: 16\n",
      "Процент отсутствующих данных в df:\n"
     ]
    },
    {
     "data": {
      "text/plain": [
       "session_id                  0.0\n",
       "client_id                   0.0\n",
       "visit_date                  0.0\n",
       "visit_time                  0.0\n",
       "visit_number                0.0\n",
       "utm_source                  0.0\n",
       "utm_medium                  0.0\n",
       "utm_campaign                0.0\n",
       "utm_adcontent               0.0\n",
       "device_category             0.0\n",
       "device_brand                0.0\n",
       "device_screen_resolution    0.0\n",
       "device_browser              0.0\n",
       "geo_country                 0.0\n",
       "geo_city                    0.0\n",
       "device_os_y                 0.0\n",
       "dtype: float64"
      ]
     },
     "execution_count": 17,
     "metadata": {},
     "output_type": "execute_result"
    }
   ],
   "source": [
    "df_sessions_clear = device_os_pre(df_sessions)\n",
    "percent_null(df_sessions_clear)"
   ]
  },
  {
   "cell_type": "code",
   "execution_count": 18,
   "id": "61e43aec-af20-4077-9d4a-1459c74b1b9c",
   "metadata": {
    "scrolled": true
   },
   "outputs": [
    {
     "data": {
      "text/plain": [
       "organic_traff\n",
       "0    891687\n",
       "1    339094\n",
       "Name: count, dtype: int64"
      ]
     },
     "execution_count": 18,
     "metadata": {},
     "output_type": "execute_result"
    }
   ],
   "source": [
    "df_sessions_clear = organic_1_and_pay_0_traffic(df_sessions_clear)\n",
    "df_sessions_clear.organic_traff.value_counts()"
   ]
  },
  {
   "cell_type": "code",
   "execution_count": 20,
   "id": "a9bc32b9-602b-43cd-934b-62d53ffcdf09",
   "metadata": {},
   "outputs": [
    {
     "data": {
      "text/plain": [
       "session_id                  0\n",
       "client_id                   0\n",
       "visit_date                  0\n",
       "visit_time                  0\n",
       "visit_number                0\n",
       "utm_source                  0\n",
       "utm_medium                  0\n",
       "utm_campaign                0\n",
       "utm_adcontent               0\n",
       "device_category             0\n",
       "device_brand                0\n",
       "device_screen_resolution    0\n",
       "device_browser              0\n",
       "geo_country                 0\n",
       "geo_city                    0\n",
       "device_os_y                 0\n",
       "organic_traff               0\n",
       "dtype: int64"
      ]
     },
     "execution_count": 20,
     "metadata": {},
     "output_type": "execute_result"
    }
   ],
   "source": [
    "df_sessions_clear.isna().sum()"
   ]
  },
  {
   "cell_type": "code",
   "execution_count": 21,
   "id": "ead56e4f-13b1-408c-9c4a-b71189491c9f",
   "metadata": {},
   "outputs": [],
   "source": [
    "df_sessions_clear.to_pickle('test_df_session.pkl')"
   ]
  },
  {
   "cell_type": "code",
   "execution_count": null,
   "id": "d0e2b78d-4ece-45d2-869c-5f5ace45ec7d",
   "metadata": {},
   "outputs": [],
   "source": []
  }
 ],
 "metadata": {
  "kernelspec": {
   "display_name": "Python 3 (ipykernel)",
   "language": "python",
   "name": "python3"
  },
  "language_info": {
   "codemirror_mode": {
    "name": "ipython",
    "version": 3
   },
   "file_extension": ".py",
   "mimetype": "text/x-python",
   "name": "python",
   "nbconvert_exporter": "python",
   "pygments_lexer": "ipython3",
   "version": "3.11.7"
  }
 },
 "nbformat": 4,
 "nbformat_minor": 5
}
